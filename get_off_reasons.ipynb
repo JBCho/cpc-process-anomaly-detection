{
 "cells": [
  {
   "cell_type": "code",
   "execution_count": 1,
   "id": "ef468312",
   "metadata": {},
   "outputs": [],
   "source": [
    "import pandas as pd\n",
    "import numpy as np\n",
    "import warnings\n",
    "warnings.simplefilter(\"ignore\")"
   ]
  },
  {
   "cell_type": "code",
   "execution_count": 2,
   "id": "dc214e62",
   "metadata": {},
   "outputs": [],
   "source": [
    "path = '../data/2023.02.01_~_2023.05.31_비가동_이력_v1.xlsx'\n",
    "log_df = pd.read_excel(path, sheet_name=None) # None으로 지정해야 전체 시트 다 불러옴"
   ]
  },
  {
   "cell_type": "code",
   "execution_count": 3,
   "id": "6c8c0fba",
   "metadata": {},
   "outputs": [],
   "source": [
    "reason = set()\n",
    "\n",
    "for k,v in log_df.items():\n",
    "    #print(k)\n",
    "    #print(v.columns)\n",
    "    try:\n",
    "        off = set(np.array(v.loc[:, ['비가동구분']]).flatten())\n",
    "        for r in off:\n",
    "            reason.add(r)\n",
    "    except:\n",
    "        pass"
   ]
  },
  {
   "cell_type": "code",
   "execution_count": 4,
   "id": "8076e7ca",
   "metadata": {},
   "outputs": [
    {
     "name": "stdout",
     "output_type": "stream",
     "text": [
      "{'금형교체', '트리밍이상', '스토크교체', '설비고장', '컷팅기이상', '로봇이상', '작업미실시', '오버플로우', '미지정', '용탕부족', '금형도형', '파렛트 공급 지연', '미들교체', '리프트이상', '기종전환', '금형예열', '보온로교체', '금형점검', '주조기이상', '보온로온도저하', '보온로겹침', '기타'}\n"
     ]
    }
   ],
   "source": [
    "print(reason)"
   ]
  }
 ],
 "metadata": {
  "kernelspec": {
   "display_name": "Pytorch8",
   "language": "python",
   "name": "pytorch8"
  },
  "language_info": {
   "codemirror_mode": {
    "name": "ipython",
    "version": 3
   },
   "file_extension": ".py",
   "mimetype": "text/x-python",
   "name": "python",
   "nbconvert_exporter": "python",
   "pygments_lexer": "ipython3",
   "version": "3.8.0"
  }
 },
 "nbformat": 4,
 "nbformat_minor": 5
}
