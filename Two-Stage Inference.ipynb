{
 "cells": [
  {
   "cell_type": "code",
   "execution_count": 1,
   "id": "5cb1914b",
   "metadata": {},
   "outputs": [],
   "source": [
    "import os\n",
    "import numpy as np\n",
    "import pandas as pd\n",
    "import copy\n",
    "import matplotlib.pyplot as plt\n",
    "\n",
    "import torch\n",
    "import torch.nn as nn\n",
    "import torch.optim as optim\n",
    "from torch.utils.data import DataLoader\n",
    "\n",
    "from sklearn.model_selection import train_test_split"
   ]
  },
  {
   "cell_type": "code",
   "execution_count": 2,
   "id": "5c5c7c01",
   "metadata": {},
   "outputs": [
    {
     "data": {
      "text/plain": [
       "device(type='cuda')"
      ]
     },
     "execution_count": 2,
     "metadata": {},
     "output_type": "execute_result"
    }
   ],
   "source": [
    "device = torch.device(\"cuda\" if torch.cuda.is_available() else \"cpu\")\n",
    "device"
   ]
  },
  {
   "cell_type": "code",
   "execution_count": 3,
   "id": "5f8273fb",
   "metadata": {},
   "outputs": [],
   "source": [
    "# 길이 조정 함수\n",
    "def length_scaling(data, target_length=256):\n",
    "    current_length = data.shape[0]\n",
    "    \n",
    "    scaling_factor = target_length / current_length\n",
    "    scaled_data = np.zeros((target_length, data.shape[1]))\n",
    "\n",
    "    for i in range(data.shape[1]):\n",
    "        scaled_data[:, i] = np.interp(\n",
    "            np.linspace(0, 1, target_length),\n",
    "            np.linspace(0, 1, current_length),\n",
    "            data[:, i]\n",
    "        )\n",
    "\n",
    "    return scaled_data\n",
    "\n",
    "\n",
    "def df_rename(df):\n",
    "    CM_list = ['CM7', 'CM8', 'CM9']\n",
    "    \n",
    "    for CM in CM_list:\n",
    "        # 컬럼명 변경\n",
    "        new_columns = {\n",
    "            'CPC_LineB.CPC_PLCB.Global.' + CM + '_DATA_x.COM_PV_FP': 'FP', # Furnace Pressure\n",
    "            'CPC_LineB.CPC_PLCB.Global.' + CM + '_DATA_x.COM_PV_CP': 'CP', # Chamber Pressure\n",
    "            'CPC_LineB.CPC_PLCB.Global.' + CM + '_DATA_x.COM_PV_FT': 'Temperature',\n",
    "            'CPC_LineB.CPC_PLCB.Global.' + CM + '_DATA_x.COM_PV_FCT': 'Coil Temperature', #코일 온도\n",
    "            'CPC_LineB.CPC_PLCB.Global.' + CM + '_DATA_x.COM_PV_HEATER_L1': 'Coil T', #코일 압력 T\n",
    "            'CPC_LineB.CPC_PLCB.Global.' + CM + '_DATA_x.COM_PV_HEATER_L2': 'Coil S', #코일 압력 S\n",
    "            'CPC_LineB.CPC_PLCB.Global.' + CM + '_DATA_x.COM_PV_HEATER_L3': 'Coil R' #코일 압력 R\n",
    "            }\n",
    "        df = df.rename(columns=new_columns)\n",
    "    \n",
    "    return df\n",
    "\n",
    "def df_normalize(df):\n",
    "    normalized_df = (df - df.min()) / (df.max() - df.min())\n",
    "    return normalized_df\n",
    "\n",
    "def make_df(path):\n",
    "    cols = ['FP', 'CP', 'Temperature', 'Coil Temperature', 'Coil T', 'Coil S', 'Coil R']\n",
    "    df = []\n",
    "    \n",
    "    # 경로 내의 파일 및 폴더 확인\n",
    "    for root, dirs, files in os.walk(path):\n",
    "        # 확장자 .csv인 파일 선택\n",
    "        csv_files = [file for file in files if file.endswith(\".csv\")]\n",
    "        \n",
    "        # csv 파일 처리\n",
    "        for file in csv_files:\n",
    "            file_path = os.path.join(root, file)\n",
    "            \n",
    "            # CSV 파일 읽고 추가\n",
    "            csv_data = pd.read_csv(file_path)\n",
    "            csv_data = df_rename(csv_data)\n",
    "            csv_data = csv_data[cols].interpolate(method='linear') # 선형 보간\n",
    "            csv_data = csv_data.dropna(axis=0).reset_index(drop=True)\n",
    "            csv_data = df_normalize(csv_data)\n",
    "            df.append(csv_data)\n",
    "    \n",
    "    # Pandas DataFrame => NumPy\n",
    "    df_array = np.array([length_scaling(dataframe.values, 256) for dataframe in df if len(dataframe.values)])\n",
    "        \n",
    "    return df, df_array"
   ]
  },
  {
   "cell_type": "code",
   "execution_count": 4,
   "id": "dd367536",
   "metadata": {},
   "outputs": [],
   "source": [
    "class LSTMAutoEncoder(nn.Module):\n",
    "    def __init__(self, num_layers, hidden_size, nb_feature, dropout=0, device=torch.device('cpu')):\n",
    "        super(LSTMAutoEncoder, self).__init__()\n",
    "        self.device = device\n",
    "        self.encoder = Encoder(num_layers, hidden_size, nb_feature, dropout, device)\n",
    "        self.decoder = Decoder(num_layers, hidden_size, nb_feature, dropout, device)\n",
    "\n",
    "    def forward(self, input_seq):\n",
    "        output = torch.zeros(size=input_seq.shape, dtype=torch.float)\n",
    "        hidden_cell = self.encoder(input_seq)\n",
    "        input_decoder = input_seq[:, -1, :].view(input_seq.shape[0], 1, input_seq.shape[2])\n",
    "        for i in range(input_seq.shape[1] - 1, -1, -1):\n",
    "            output_decoder, hidden_cell = self.decoder(input_decoder, hidden_cell)\n",
    "            input_decoder = output_decoder\n",
    "            output[:, i, :] = output_decoder[:, 0, :]\n",
    "        return output\n",
    "\n",
    "\n",
    "class Encoder(nn.Module):\n",
    "    def __init__(self, num_layers, hidden_size, nb_feature, dropout, device):\n",
    "        super(Encoder, self).__init__()\n",
    "\n",
    "        self.input_size = nb_feature\n",
    "        self.hidden_size = hidden_size\n",
    "        self.num_layers = num_layers\n",
    "        self.device = device\n",
    "\n",
    "        self.lstm = nn.LSTM(input_size=nb_feature, hidden_size=hidden_size,\n",
    "                            num_layers=num_layers, batch_first=True, dropout=dropout, bias=True)\n",
    "\n",
    "    def initHidden(self, batch_size):\n",
    "        self.hidden_cell = (\n",
    "            torch.randn((self.num_layers, batch_size, self.hidden_size), dtype=torch.float).to(self.device),\n",
    "            torch.randn((self.num_layers, batch_size, self.hidden_size), dtype=torch.float).to(self.device)\n",
    "        )\n",
    "\n",
    "    def forward(self, input_seq):\n",
    "        self.initHidden(input_seq.shape[0])\n",
    "        _, self.hidden_cell = self.lstm(input_seq, self.hidden_cell)\n",
    "        return self.hidden_cell\n",
    "\n",
    "\n",
    "class Decoder(nn.Module):\n",
    "    def __init__(self, num_layers, hidden_size, nb_feature, dropout, device):\n",
    "        super(Decoder, self).__init__()\n",
    "\n",
    "        self.input_size = nb_feature\n",
    "        self.hidden_size = hidden_size\n",
    "        self.num_layers = num_layers\n",
    "        self.device = device\n",
    "\n",
    "        self.lstm = nn.LSTM(input_size=nb_feature, hidden_size=hidden_size,\n",
    "                            num_layers=num_layers, batch_first=True, dropout=dropout, bias=True)\n",
    "        self.linear = nn.Linear(in_features=hidden_size, out_features=nb_feature)\n",
    "\n",
    "    def forward(self, input_seq, hidden_cell):\n",
    "        output, hidden_cell = self.lstm(input_seq, hidden_cell)\n",
    "        output = self.linear(output)\n",
    "        return output, hidden_cell"
   ]
  },
  {
   "cell_type": "code",
   "execution_count": 5,
   "id": "b1f8d441",
   "metadata": {},
   "outputs": [],
   "source": [
    "class LossCheckpoint:\n",
    "    def __init__(self):\n",
    "        self.losses = []\n",
    "\n",
    "    def plot(self, log=False):\n",
    "        plt.figure(figsize=(10, 5))\n",
    "        plt.plot(range(len(self.losses)), self.losses)\n",
    "        plt.xlabel('epoch')\n",
    "        plt.ylabel('loss')\n",
    "        if log:\n",
    "            plt.yscale('log')\n",
    "        plt.show()\n",
    "        \n",
    "class EarlyStopping:\n",
    "    def __init__(self, patience=0):\n",
    "        self.last_metrics = 10**8\n",
    "        self.patience = patience\n",
    "        self.patience_count = 0\n",
    "\n",
    "    def check_training(self, metric):\n",
    "        if metric < self.last_metrics:\n",
    "            self.last_metrics = metric\n",
    "            self.patience_count = 0\n",
    "            return False\n",
    "        elif (metric > self.last_metrics) & (self.patience_count < self.patience):\n",
    "            self.patience_count += 1\n",
    "            return False\n",
    "        else:\n",
    "            return True"
   ]
  },
  {
   "cell_type": "code",
   "execution_count": 6,
   "id": "2f5b0d1f",
   "metadata": {},
   "outputs": [],
   "source": [
    "class ModelManagement:\n",
    "    def __init__(self, path, name_model):\n",
    "        self.path = path\n",
    "        self.last_metrics = 10**8\n",
    "        self.name_model = name_model\n",
    "        self.dict_model = None\n",
    "\n",
    "    def save(self, model):\n",
    "        torch.save(model.state_dict(), self.path + '%s' % self.name_model)\n",
    "\n",
    "    def checkpoint(self, epoch, model, optimizer, loss):\n",
    "        if self.last_metrics > loss:\n",
    "            self.dict_model = {\n",
    "                'epoch': epoch,\n",
    "                'model_state_dict': model.state_dict(),\n",
    "                'optimizer_state_dict': optimizer.state_dict(),\n",
    "                'loss': loss,\n",
    "            }\n",
    "            self.last_metrics = loss\n",
    "\n",
    "    def save_best_model(self):\n",
    "        torch.save(self.dict_model, self.path + '%s_epoch_%d' % (self.name_model, self.dict_model['epoch']))"
   ]
  },
  {
   "cell_type": "code",
   "execution_count": 7,
   "id": "b4527fda",
   "metadata": {},
   "outputs": [],
   "source": [
    "def create_dataset(df):\n",
    "    temp = df.tolist()\n",
    "    dataset = [torch.tensor(s).float() for s in temp]\n",
    "    \n",
    "    n_seq, seq_len, n_features = torch.stack(dataset).shape\n",
    "    \n",
    "    return dataset, seq_len, n_features"
   ]
  },
  {
   "cell_type": "code",
   "execution_count": 8,
   "id": "d6e0a9a6",
   "metadata": {},
   "outputs": [],
   "source": [
    "def train(epoch, train_loader):\n",
    "    model.train()\n",
    "    train_loss = 0\n",
    "    for id_batch, data in enumerate(train_loader):\n",
    "        optimizer.zero_grad()\n",
    "        # forward\n",
    "        data = data.to(device)\n",
    "        output = model.forward(data)\n",
    "        loss = criterion(data, output.to(device))\n",
    "        # backward\n",
    "        loss.backward()\n",
    "        train_loss += loss.item()\n",
    "        torch.nn.utils.clip_grad_norm_(model.parameters(), 0.3)\n",
    "        optimizer.step()\n",
    "\n",
    "        print('\\r', 'Training [{}/{} ({:.0f}%)] \\tLoss: {:.6f})]'.format(\n",
    "            id_batch + 1, len(train_loader),\n",
    "            (id_batch + 1) * 100 / len(train_loader),\n",
    "            loss.item()), sep='', end='', flush=True)\n",
    "\n",
    "    avg_loss = train_loss / len(train_loader)\n",
    "    print('====> Epoch: {} Average loss: {:.6f}'.format(epoch, avg_loss))\n",
    "    loss_checkpoint_train.losses.append(avg_loss)"
   ]
  },
  {
   "cell_type": "code",
   "execution_count": 9,
   "id": "8b1b6ad4",
   "metadata": {},
   "outputs": [],
   "source": [
    "def evaluate(loader, validation=False, epoch=0):\n",
    "    model.eval()\n",
    "    eval_loss = 0\n",
    "    with torch.no_grad():\n",
    "        for id_batch, data in enumerate(loader):\n",
    "            data = data.to(device)\n",
    "            output = model.forward(data)\n",
    "            loss = criterion(data, output.to(device))\n",
    "            eval_loss += loss.item()\n",
    "        print('\\r', 'Eval [{}/{} ({:.0f}%)] \\tLoss: {:.6f})]'.format(\n",
    "            id_batch + 1, len(loader),\n",
    "            (id_batch + 1) * 100 / len(loader),\n",
    "            loss.item()), sep='', end='', flush=True)\n",
    "    avg_loss = eval_loss / len(loader)\n",
    "    print('====> Validation Average loss: {:.6f}'.format(avg_loss))\n",
    "    # Checkpoint\n",
    "    if validation:\n",
    "        loss_checkpoint_valid.losses.append(avg_loss)\n",
    "        model_management.checkpoint(epoch, model, optimizer, avg_loss)\n",
    "        return earlyStopping.check_training(avg_loss)"
   ]
  },
  {
   "cell_type": "markdown",
   "id": "3f69e92b",
   "metadata": {},
   "source": [
    "# Data Preparation"
   ]
  },
  {
   "cell_type": "code",
   "execution_count": 10,
   "id": "3c953b3d",
   "metadata": {},
   "outputs": [],
   "source": [
    "normal_path = '../data/conf/normal/'\n",
    "down_path = '../data/conf/false/'\n",
    "abnormal_path = '../data/conf/abnormal'"
   ]
  },
  {
   "cell_type": "code",
   "execution_count": 11,
   "id": "720bc461",
   "metadata": {},
   "outputs": [
    {
     "name": "stdout",
     "output_type": "stream",
     "text": [
      "(4071, 256, 7)\n",
      "(716, 256, 7)\n",
      "(146, 256, 7)\n"
     ]
    }
   ],
   "source": [
    "# Normal, Down, Abnormal 순\n",
    "temp, normal_df = make_df(normal_path)\n",
    "_,down_df = make_df(down_path)\n",
    "_, abnormal_df = make_df(abnormal_path) \n",
    "\n",
    "print(normal_df.shape)\n",
    "print(down_df.shape)\n",
    "print(abnormal_df.shape)"
   ]
  },
  {
   "cell_type": "code",
   "execution_count": 12,
   "id": "6dfce8c2",
   "metadata": {},
   "outputs": [],
   "source": [
    "# Train:Valid:Test = 0.6:0.2:0.2 \n",
    "# (Abnormal은 훈련하지 않기 때문에 Valid:Test=0.5:0.5)\n",
    "train_normal_df, val_normal_df = train_test_split(normal_df, test_size=0.4, random_state=1209)\n",
    "train_down_df, val_down_df = train_test_split(down_df, test_size = 0.4, random_state=1209)\n",
    "\n",
    "val_normal_df, test_normal_df = train_test_split(val_normal_df, test_size=0.5, random_state=1209)\n",
    "val_down_df, test_down_df = train_test_split(val_down_df, test_size = 0.5, random_state=1209)\n",
    "\n",
    "val_abnormal_df, test_abnormal_df = train_test_split(abnormal_df, test_size = 0.5, random_state=1209)\n",
    "# =============================================================================\n",
    "train_normal_dataset, seq_len, n_features = create_dataset(train_normal_df)\n",
    "train_down_dataset, _, _ = create_dataset(train_down_df)\n",
    "\n",
    "val_normal_dataset, _, _ = create_dataset(val_normal_df)\n",
    "val_down_dataset, _, _ = create_dataset(val_down_df)\n",
    "val_abnormal_dataset, _, _ = create_dataset(val_abnormal_df)\n",
    "\n",
    "test_normal_dataset, _, _ = create_dataset(test_normal_df)\n",
    "test_down_dataset, _, _ = create_dataset(test_down_df)\n",
    "test_abnormal_dataset, _, _ = create_dataset(test_abnormal_df)"
   ]
  },
  {
   "cell_type": "code",
   "execution_count": 13,
   "id": "ca7553e0",
   "metadata": {},
   "outputs": [
    {
     "name": "stdout",
     "output_type": "stream",
     "text": [
      "2442 429\n",
      "814 143 73\n",
      "815 144 73\n"
     ]
    }
   ],
   "source": [
    "print(len(train_normal_dataset), len(train_down_dataset))\n",
    "print(len(val_normal_dataset), len(val_down_dataset), len(val_abnormal_dataset))\n",
    "print(len(test_normal_dataset), len(test_down_dataset), len(test_abnormal_dataset))"
   ]
  },
  {
   "cell_type": "markdown",
   "id": "ed73e75e",
   "metadata": {},
   "source": [
    "# Two-Stage Inference"
   ]
  },
  {
   "cell_type": "code",
   "execution_count": 14,
   "id": "76be5a91",
   "metadata": {},
   "outputs": [
    {
     "data": {
      "text/plain": [
       "<All keys matched successfully>"
      ]
     },
     "execution_count": 14,
     "metadata": {},
     "output_type": "execute_result"
    }
   ],
   "source": [
    "hidden_size = 32\n",
    "num_layers = 4\n",
    "criterion = torch.nn.MSELoss()\n",
    "\n",
    "# First Model\n",
    "first_model = LSTMAutoEncoder(num_layers, hidden_size, n_features, device=device)\n",
    "first_checkpoint = torch.load('../model/conf/first/lstm_32_4_(len256)_epoch_479')\n",
    "first_model.load_state_dict(first_checkpoint['model_state_dict'])\n",
    "\n",
    "# Second Model\n",
    "second_model = LSTMAutoEncoder(num_layers, hidden_size, n_features, device=device)\n",
    "second_checkpoint = torch.load('../model/conf/second/lstm_32_4_(len256)_epoch_288')\n",
    "second_model.load_state_dict(second_checkpoint['model_state_dict'])"
   ]
  },
  {
   "cell_type": "code",
   "execution_count": 15,
   "id": "156a8844",
   "metadata": {},
   "outputs": [
    {
     "data": {
      "text/plain": [
       "LSTMAutoEncoder(\n",
       "  (encoder): Encoder(\n",
       "    (lstm): LSTM(7, 32, num_layers=4, batch_first=True)\n",
       "  )\n",
       "  (decoder): Decoder(\n",
       "    (lstm): LSTM(7, 32, num_layers=4, batch_first=True)\n",
       "    (linear): Linear(in_features=32, out_features=7, bias=True)\n",
       "  )\n",
       ")"
      ]
     },
     "execution_count": 15,
     "metadata": {},
     "output_type": "execute_result"
    }
   ],
   "source": [
    "first_model.to(device)\n",
    "second_model.to(device)"
   ]
  },
  {
   "cell_type": "markdown",
   "id": "a00116ab",
   "metadata": {},
   "source": [
    "## First Model Threshold"
   ]
  },
  {
   "cell_type": "code",
   "execution_count": 16,
   "id": "bab9fb12",
   "metadata": {},
   "outputs": [],
   "source": [
    "val_normal_loss = [0 for _ in range(len(val_normal_dataset))]\n",
    "val_abnormal_loss = [0 for _ in range(len(val_abnormal_dataset))]\n",
    "\n",
    "with torch.no_grad():\n",
    "    for i in range(len(val_normal_dataset)):\n",
    "        data = val_normal_dataset[i]\n",
    "        data = data.unsqueeze(0).to(device)\n",
    "        output = first_model.forward(data).to(device)\n",
    "        loss = criterion(data, output)\n",
    "        val_normal_loss[i] = loss\n",
    "\n",
    "with torch.no_grad():\n",
    "    for i in range(len(val_abnormal_dataset)):\n",
    "        data = val_abnormal_dataset[i]\n",
    "        data = data.unsqueeze(0).to(device)\n",
    "        output = first_model.forward(data).to(device)\n",
    "        loss = criterion(data, output)\n",
    "        val_abnormal_loss[i] = loss"
   ]
  },
  {
   "cell_type": "code",
   "execution_count": 17,
   "id": "638776bb",
   "metadata": {},
   "outputs": [],
   "source": [
    "thresholds = np.arange(0, 0.15, 0.001)\n",
    "\n",
    "accuracy_list = [0 for _ in range(len(thresholds))]\n",
    "precision_list = [0 for _ in range(len(thresholds))]\n",
    "recall_list = [0 for _ in range(len(thresholds))]\n",
    "F1_list = [0 for _ in range(len(thresholds))]\n",
    "\n",
    "for i in range(len(thresholds)):\n",
    "    threshold = thresholds[i]\n",
    "    val_abnomal = 0\n",
    "    test_abnomal = 0\n",
    "    \n",
    "    for loss in val_normal_loss:\n",
    "        if loss > threshold:\n",
    "            val_abnomal += 1\n",
    "    \n",
    "    for loss in val_abnormal_loss:\n",
    "        if loss > threshold:\n",
    "            test_abnomal += 1\n",
    "            \n",
    "    TP = test_abnomal\n",
    "    FP = val_abnomal\n",
    "    TN = len(val_normal_dataset)-val_abnomal\n",
    "    FN = len(val_abnormal_dataset)-test_abnomal\n",
    "    \n",
    "    accuracy = (TP+TN) / (TP+FP+TN+FN)\n",
    "    precision = TP / (TP+FP)\n",
    "    recall = TP / (TP+FN)\n",
    "    F1 = 2 / (1/precision + 1/recall)\n",
    "\n",
    "    accuracy_list[i] = accuracy\n",
    "    precision_list[i] = precision\n",
    "    recall_list[i] = recall\n",
    "    F1_list[i] = F1"
   ]
  },
  {
   "cell_type": "code",
   "execution_count": 18,
   "id": "51fe8477",
   "metadata": {},
   "outputs": [
    {
     "name": "stdout",
     "output_type": "stream",
     "text": [
      "0.075\n"
     ]
    }
   ],
   "source": [
    "min_dist = 10\n",
    "idx = 0\n",
    "\n",
    "for i in range(len(thresholds)):\n",
    "    precision, recall = precision_list[i], recall_list[i]\n",
    "    \n",
    "    if min_dist > abs(precision-recall):\n",
    "        min_dist, idx = abs(precision-recall), i\n",
    "\n",
    "first_threshold = thresholds[idx]\n",
    "print(first_threshold)"
   ]
  },
  {
   "cell_type": "code",
   "execution_count": 19,
   "id": "7f7bf5aa",
   "metadata": {},
   "outputs": [
    {
     "data": {
      "image/png": "[encoded data removed]",
      "text/plain": [
       "<Figure size 1200x800 with 1 Axes>"
      ]
     },
     "metadata": {},
     "output_type": "display_data"
    }
   ],
   "source": [
    "plt.figure(figsize=(12,8))\n",
    "plt.plot(thresholds, precision_list, label = 'Precision')\n",
    "plt.plot(thresholds, recall_list, label = 'Recall')\n",
    "plt.axvline(first_threshold, color='red', linestyle='--', linewidth=1)\n",
    "plt.legend()\n",
    "plt.show()"
   ]
  },
  {
   "cell_type": "markdown",
   "id": "2a302a77",
   "metadata": {},
   "source": [
    "## Second Model Threshold"
   ]
  },
  {
   "cell_type": "code",
   "execution_count": 20,
   "id": "9566ce56",
   "metadata": {},
   "outputs": [],
   "source": [
    "val_down_loss = [0 for _ in range(len(val_down_dataset))]\n",
    "val_abnormal_loss = [0 for _ in range(len(val_abnormal_dataset))]\n",
    "\n",
    "with torch.no_grad():\n",
    "    for i in range(len(val_down_dataset)):\n",
    "        data = val_down_dataset[i]\n",
    "        data = data.unsqueeze(0).to(device)\n",
    "        output = second_model.forward(data).to(device)\n",
    "        loss = criterion(data, output)\n",
    "        val_down_loss[i] = loss\n",
    "\n",
    "with torch.no_grad():\n",
    "    for i in range(len(val_abnormal_dataset)):\n",
    "        data = val_abnormal_dataset[i]\n",
    "        data = data.unsqueeze(0).to(device)\n",
    "        output = second_model.forward(data).to(device)\n",
    "        loss = criterion(data, output)\n",
    "        val_abnormal_loss[i] = loss"
   ]
  },
  {
   "cell_type": "code",
   "execution_count": 21,
   "id": "f9cd70a9",
   "metadata": {},
   "outputs": [],
   "source": [
    "thresholds = np.arange(0, 0.15, 0.001)\n",
    "\n",
    "accuracy_list = [0 for _ in range(len(thresholds))]\n",
    "precision_list = [0 for _ in range(len(thresholds))]\n",
    "recall_list = [0 for _ in range(len(thresholds))]\n",
    "F1_list = [0 for _ in range(len(thresholds))]\n",
    "\n",
    "for i in range(len(thresholds)):\n",
    "    threshold = thresholds[i]\n",
    "    val_abnomal = 0\n",
    "    test_abnomal = 0\n",
    "    \n",
    "    for loss in val_down_loss:\n",
    "        if loss > threshold:\n",
    "            val_abnomal += 1\n",
    "    \n",
    "    for loss in val_abnormal_loss:\n",
    "        if loss > threshold:\n",
    "            test_abnomal += 1\n",
    "            \n",
    "    TP = test_abnomal\n",
    "    FP = val_abnomal\n",
    "    TN = len(val_normal_dataset)-val_abnomal\n",
    "    FN = len(val_abnormal_dataset)-test_abnomal\n",
    "    \n",
    "    accuracy = (TP+TN) / (TP+FP+TN+FN)\n",
    "    precision = TP / (TP+FP)\n",
    "    recall = TP / (TP+FN)\n",
    "    F1 = 2 / (1/precision + 1/recall)\n",
    "\n",
    "    accuracy_list[i] = accuracy\n",
    "    precision_list[i] = precision\n",
    "    recall_list[i] = recall\n",
    "    F1_list[i] = F1"
   ]
  },
  {
   "cell_type": "code",
   "execution_count": 22,
   "id": "da2ec780",
   "metadata": {},
   "outputs": [
    {
     "name": "stdout",
     "output_type": "stream",
     "text": [
      "0.08940000000000001\n"
     ]
    }
   ],
   "source": [
    "min_dist = 10\n",
    "idx = 0\n",
    "\n",
    "for i in range(len(thresholds)):\n",
    "    precision, recall = precision_list[i], recall_list[i]\n",
    "    \n",
    "    if min_dist > abs(precision-recall):\n",
    "        min_dist, idx = abs(precision-recall), i\n",
    "        \n",
    "second_threshold = thresholds[idx]\n",
    "print(second_threshold)"
   ]
  },
  {
   "cell_type": "code",
   "execution_count": 23,
   "id": "eceed23c",
   "metadata": {},
   "outputs": [
    {
     "data": {
      "image/png": "[encoded data removed]",
      "text/plain": [
       "<Figure size 1200x800 with 1 Axes>"
      ]
     },
     "metadata": {},
     "output_type": "display_data"
    }
   ],
   "source": [
    "plt.figure(figsize=(12,8))\n",
    "plt.plot(thresholds, precision_list, label = 'Precision')\n",
    "plt.plot(thresholds, recall_list, label = 'Recall')\n",
    "plt.axvline(second_threshold, color='red', linestyle='--', linewidth=1)\n",
    "plt.legend()\n",
    "plt.show()"
   ]
  },
  {
   "cell_type": "code",
   "execution_count": 24,
   "id": "b7ff1946",
   "metadata": {},
   "outputs": [
    {
     "name": "stdout",
     "output_type": "stream",
     "text": [
      "Accuracy // Precision // Recall // F1-Score\n",
      "0.939120631341601 // 0.6301369863013698 // 0.6301369863013698 // 0.6301369863013698\n"
     ]
    }
   ],
   "source": [
    "print(f'Accuracy // Precision // Recall // F1-Score')\n",
    "print(f'{accuracy_list[idx]} // {precision_list[idx]} // {recall_list[idx]} // {F1_list[idx]}')"
   ]
  },
  {
   "cell_type": "markdown",
   "id": "f886f605",
   "metadata": {},
   "source": [
    "## Two-Stage"
   ]
  },
  {
   "cell_type": "code",
   "execution_count": 25,
   "id": "38f25e82",
   "metadata": {},
   "outputs": [],
   "source": [
    "# 편의상 두 First, Second 두 모델 모두 Test Dataset에 대한 loss를 계산\n",
    "first_normal_loss = [0 for _ in range(len(test_normal_dataset))]\n",
    "first_down_loss = [0 for _ in range(len(test_down_dataset))]\n",
    "first_abnormal_loss = [0 for _ in range(len(test_abnormal_dataset))]\n",
    "\n",
    "second_normal_loss = [0 for _ in range(len(test_normal_dataset))]\n",
    "second_down_loss = [0 for _ in range(len(test_down_dataset))]\n",
    "second_abnormal_loss = [0 for _ in range(len(test_abnormal_dataset))]\n",
    "\n",
    "# Normal Dataset\n",
    "with torch.no_grad():\n",
    "    for i in range(len(test_normal_dataset)):\n",
    "        data = test_normal_dataset[i]\n",
    "        data = data.unsqueeze(0).to(device)\n",
    "        \n",
    "        output = first_model.forward(data).to(device)\n",
    "        loss = criterion(data, output)\n",
    "        first_normal_loss[i] = loss\n",
    "        \n",
    "        output = second_model.forward(data).to(device)\n",
    "        loss = criterion(data, output)\n",
    "        second_normal_loss[i] = loss\n",
    "        \n",
    "# Down Dataset\n",
    "with torch.no_grad():\n",
    "    for i in range(len(test_down_dataset)):\n",
    "        data = test_down_dataset[i]\n",
    "        data = data.unsqueeze(0).to(device)\n",
    "        \n",
    "        output = first_model.forward(data).to(device)\n",
    "        loss = criterion(data, output)\n",
    "        first_down_loss[i] = loss\n",
    "        \n",
    "        output = second_model.forward(data).to(device)\n",
    "        loss = criterion(data, output)\n",
    "        second_down_loss[i] = loss\n",
    "\n",
    "# Abnormal Dataset\n",
    "with torch.no_grad():\n",
    "    for i in range(len(test_abnormal_dataset)):\n",
    "        data = test_abnormal_dataset[i]\n",
    "        data = data.unsqueeze(0).to(device)\n",
    "        \n",
    "        output = first_model.forward(data).to(device)\n",
    "        loss = criterion(data, output)\n",
    "        first_abnormal_loss[i] = loss\n",
    "        \n",
    "        output = second_model.forward(data).to(device)\n",
    "        loss = criterion(data, output)\n",
    "        second_abnormal_loss[i] = loss"
   ]
  },
  {
   "cell_type": "code",
   "execution_count": 31,
   "id": "5a16b6a8",
   "metadata": {},
   "outputs": [],
   "source": [
    "TP = 0\n",
    "FP = 0\n",
    "TN = 0\n",
    "FN = 0\n",
    "\n",
    "# Normal Data\n",
    "for i in range(len(test_normal_dataset)):\n",
    "    if first_normal_loss[i]>first_threshold:\n",
    "        if second_normal_loss[i]>second_threshold:\n",
    "            FP += 1\n",
    "        else:\n",
    "            TN += 1\n",
    "    else:\n",
    "        TN += 1\n",
    "    \n",
    "# Down Data\n",
    "for i in range(len(test_down_dataset)):\n",
    "    if first_down_loss[i]>first_threshold:\n",
    "        if second_down_loss[i]>second_threshold:\n",
    "            FP += 1\n",
    "        else:\n",
    "            TN += 1\n",
    "    else:\n",
    "        TN += 1\n",
    "\n",
    "# Abnormal Data\n",
    "for i in range(len(test_abnormal_dataset)):\n",
    "    if first_abnormal_loss[i]>first_threshold:\n",
    "        if second_abnormal_loss[i]>second_threshold:\n",
    "            TP += 1\n",
    "        else:\n",
    "            FN += 1\n",
    "    else:\n",
    "        FN += 1"
   ]
  },
  {
   "cell_type": "code",
   "execution_count": 37,
   "id": "05dad69d",
   "metadata": {},
   "outputs": [],
   "source": [
    "accuracy = (TP+TN) / (TP+FP+TN+FN)\n",
    "precision = TP / (TP+FP)\n",
    "recall = TP / (TP+FN)\n",
    "F1 = 2 / (1/precision + 1/recall)"
   ]
  },
  {
   "cell_type": "code",
   "execution_count": 38,
   "id": "815435a1",
   "metadata": {},
   "outputs": [
    {
     "name": "stdout",
     "output_type": "stream",
     "text": [
      "Accuracy // Precision // Recall // F1-Score\n",
      "0.9593023255813954 // 0.6962025316455697 // 0.7534246575342466 // 0.7236842105263158\n"
     ]
    }
   ],
   "source": [
    "print(f'Accuracy // Precision // Recall // F1-Score')\n",
    "print(f'{accuracy} // {precision} // {recall} // {F1}')"
   ]
  }
 ],
 "metadata": {
  "kernelspec": {
   "display_name": "Pytorch8",
   "language": "python",
   "name": "pytorch8"
  },
  "language_info": {
   "codemirror_mode": {
    "name": "ipython",
    "version": 3
   },
   "file_extension": ".py",
   "mimetype": "text/x-python",
   "name": "python",
   "nbconvert_exporter": "python",
   "pygments_lexer": "ipython3",
   "version": "3.8.0"
  }
 },
 "nbformat": 4,
 "nbformat_minor": 5
}
